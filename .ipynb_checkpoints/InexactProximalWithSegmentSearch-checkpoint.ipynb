{
 "cells": [
  {
   "cell_type": "code",
   "execution_count": 2,
   "metadata": {},
   "outputs": [],
   "source": [
    "import torch\n",
    "import numpy as np\n",
    "from torch.optim.optimizer import Optimizer"
   ]
  },
  {
   "cell_type": "code",
   "execution_count": 13,
   "metadata": {},
   "outputs": [],
   "source": [
    "class InexactProximalWithSegmentSearch(Optimizer):\n",
    "\n",
    "    \"\"\"\n",
    "    Algorithm 3.6\n",
    "    \"\"\"\n",
    "    \n",
    "    def __init__(self, params, f, p, H, beta):\n",
    "        \n",
    "        \"\"\"Implements pth-order proximal-point methods with exact search.\n",
    "        \n",
    "        Assuming E as finite-dimensional real vector space.\n",
    "        \n",
    "        Arguments:\n",
    "            f (function(E) -> float)\n",
    "            p (int) order of operator\n",
    "            H (float) const > 0\n",
    "            sprox (function(E, E, int, float) -> (E, float)) the pth-order proximal-point operators.\n",
    "        \"\"\"\n",
    "        if not p > 0 or not type(p) == int:\n",
    "            raise ValueError('p should be positive integer')\n",
    "            \n",
    "        if not H > 0:\n",
    "            raise ValueError('H should be positive')\n",
    "            \n",
    "        params = list(params)\n",
    "        psiargmin = []\n",
    "            \n",
    "        for param in params:\n",
    "            psiargmin.append(param.clone().detach())\n",
    "            \n",
    "        defaults = dict(\n",
    "            f = f,\n",
    "            p = p,\n",
    "            H = H,\n",
    "            A = 0,\n",
    "            psiargmin = psiargmin,\n",
    "            beta = beta\n",
    "        )\n",
    "        \n",
    "        super(InexactProximalWithSegmentSearch, self).__init__(params, defaults)\n",
    "        \n",
    "    def step(self):\n",
    "        \"\"\" Performs a single optimization step. \"\"\"\n",
    "        \n",
    "        for group in self.param_groups:\n",
    "            f = group['f']\n",
    "            p = group['p']\n",
    "            H = group['H']\n",
    "            A = group['A']\n",
    "            psiargmin = group['psiargmin']\n",
    "            beta = group['beta']\n",
    "            x = group['params']\n",
    "            \n",
    "            v = psiargmin\n",
    "            u = np.array(v) - np.array(x)\n",
    "#             x_, t = sprox(x, list(u), p, H)\n",
    "            y = f(x)\n",
    "            y.backward()\n",
    "        \n",
    "            xk0 = Apx(x, beta)\n",
    "            if (torch.mul(xk0.grad, u).sum()) >= 0:\n",
    "                x = xk0\n",
    "                l += x.grad\n",
    "                g = x.grad\n",
    "            else:\n",
    "                xk1 = Apx(v, beta)\n",
    "                if (torch.mul(xk0.grad, u).sum()) <= 0:\n",
    "                    x - xk1\n",
    "                    l += x.grad\n",
    "                    g = g.grad\n",
    "                else:\n",
    "                    t1 = 0\n",
    "                    t2 = 1\n",
    "                    b1 = torch.mul(xk0.grad, u)\n",
    "                    b2 = torch.mul(xk1.grad, u)\n",
    "                    T1 = xk0\n",
    "                    T2 = xk1\n",
    "                    alpha = b2 / (b2 - b1)\n",
    "                    g = (alpha * np.norm(xk0.grad)**((p+1)/p) + (1 - alpha) * np.norm(xk1.grad)**((p+1)/p))**(p/(p+1))\n",
    "                    while alpha * (t2 - t1) * b1 > 1/2 *((1-beta)/H)**(1/p)*g**((p+1)/p):\n",
    "                        t_ = 1/2*(t1 + t2)\n",
    "                        T_ = Apx(x + t_*u, beta)\n",
    "                        b_ = np.dot(T_.grad, u)\n",
    "                        if b <= 0:\n",
    "                            t1 = t_\n",
    "                            b1 = b_\n",
    "                            T1 = T_\n",
    "                        else:\n",
    "                            t2 = t_\n",
    "                            b2 = b_\n",
    "                            T2 = T_\n",
    "                        alpha = b2 / (b2 - b1)\n",
    "                        g = alpha * np.norm(T1.grad)**((p+1)/p) + (1-alpha)*np.norm(T2.grad)**(p/(p+1))\n",
    "                    x = alpha*T1 + (1-alpha)*T2\n",
    "                    l += alpha*T1.grad + (1-alpha)*T2.grad\n",
    "            a = np.roots([1, -1/2*((1-beta)/H)**(1/p)*g**((1-p)/p), -1/2*((1-beta)/H)**(1/p)*g**((1-p)/p)*A])\n",
    "            A = A + a\n",
    "            k2 += a * l\n",
    "            return None\n",
    "        \n",
    "        \n",
    "        \n",
    "#             g = torch.tensor(0.0)\n",
    "            \n",
    "#             for xi in x:\n",
    "#                 g.add_(torch.mul(xi.grad, xi.grad))\n",
    "                \n",
    "#             g.sqrt_().pow_((1 - p)/p).mul_(torch.pow(torch.tensor(1/H), torch.tensor(1/p)))\n",
    "#             g = g.cpu().detach().numpy()[0]\n",
    "#             a = 0.5 * (g + np.sqrt(g * g + 4 * g * A))\n",
    "#             A += a\n",
    "            \n",
    "#             for i, xi in enumerate(x):                                                 \n",
    "#                 psi[i].add_(torch.mul(torch.tensor(a), xi.grad))"
   ]
  },
  {
   "cell_type": "markdown",
   "metadata": {},
   "source": [
    "Let's generate some data..."
   ]
  },
  {
   "cell_type": "code",
   "execution_count": 4,
   "metadata": {},
   "outputs": [],
   "source": [
    "np.random.seed(42)\n",
    "K = 200\n",
    "T = 160\n",
    "x = np.random.rand(K, 1)\n",
    "y = 2 * x + 1 + .1 * np.random.randn(K, 1)\n",
    "\n",
    "idx = np.arange(K)\n",
    "np.random.shuffle(idx)\n",
    "\n",
    "train_idx = idx[:T]\n",
    "test_idx = idx[T:]\n",
    "\n",
    "x_train, y_train = x[train_idx], y[train_idx]\n",
    "x_test, y_test = x[test_idx], y[test_idx]"
   ]
  },
  {
   "cell_type": "markdown",
   "metadata": {},
   "source": [
    "...and visialize it:"
   ]
  },
  {
   "cell_type": "code",
   "execution_count": 6,
   "metadata": {},
   "outputs": [
    {
     "data": {
      "image/png": "[encoded data removed]",
      "text/plain": [
       "<Figure size 936x432 with 2 Axes>"
      ]
     },
     "metadata": {
      "needs_background": "light"
     },
     "output_type": "display_data"
    }
   ],
   "source": [
    "import matplotlib.pyplot as plt\n",
    "\n",
    "x = np.linspace(0, 1, 10)\n",
    "y = 2 * x + 1\n",
    "fig, (ax1, ax2) = plt.subplots(1, 2, figsize=(13,6))\n",
    "ax1.scatter(x_train, y_train)\n",
    "ax1.plot(x, y, color='black', label='kek')\n",
    "ax1.set_title('Train')\n",
    "ax1.set_xlabel('x')\n",
    "ax1.set_ylabel('y')\n",
    "ax2.scatter(x_test, y_test, color='red')\n",
    "ax2.plot(x, y, color='black')\n",
    "ax2.set_title('Test')\n",
    "ax2.set_xlabel('x')\n",
    "ax2.set_ylabel('y')\n",
    "plt.show()"
   ]
  },
  {
   "cell_type": "markdown",
   "metadata": {},
   "source": [
    "Migrate from numpy arrays to tensors:"
   ]
  },
  {
   "cell_type": "code",
   "execution_count": 7,
   "metadata": {},
   "outputs": [],
   "source": [
    "device = 'cuda' if torch.cuda.is_available() else 'cpu'\n",
    "x_train_tensor = torch.from_numpy(x_train).float().to(device)\n",
    "y_train_tensor = torch.from_numpy(y_train).float().to(device)\n",
    "x_test_tensor = torch.from_numpy(x_test).float().to(device)\n",
    "y_test_tensor = torch.from_numpy(y_test).float().to(device)"
   ]
  },
  {
   "cell_type": "markdown",
   "metadata": {},
   "source": [
    "Our model will be linear regression:"
   ]
  },
  {
   "cell_type": "code",
   "execution_count": 8,
   "metadata": {},
   "outputs": [],
   "source": [
    "class LinearRegression(torch.nn.Module):\n",
    "    \n",
    "    def __init__(self, n_params):\n",
    "        super().__init__()\n",
    "        self.linear = torch.nn.Linear(n_params, 1)\n",
    "    \n",
    "    # predict\n",
    "    def forward(self, x):\n",
    "        return self.linear(x)"
   ]
  },
  {
   "cell_type": "code",
   "execution_count": 14,
   "metadata": {},
   "outputs": [
    {
     "ename": "NameError",
     "evalue": "name 'Apx' is not defined",
     "output_type": "error",
     "traceback": [
      "\u001b[0;31m---------------------------------------------------------------------------\u001b[0m",
      "\u001b[0;31mNameError\u001b[0m                                 Traceback (most recent call last)",
      "\u001b[0;32m<ipython-input-14-a9aeb1d5ae43>\u001b[0m in \u001b[0;36m<module>\u001b[0;34m\u001b[0m\n\u001b[1;32m     21\u001b[0m     \u001b[0mloss\u001b[0m \u001b[0;34m=\u001b[0m \u001b[0mloss_fn\u001b[0m\u001b[0;34m(\u001b[0m\u001b[0my_train_tensor\u001b[0m\u001b[0;34m,\u001b[0m \u001b[0mpredicted\u001b[0m\u001b[0;34m)\u001b[0m\u001b[0;34m\u001b[0m\u001b[0;34m\u001b[0m\u001b[0m\n\u001b[1;32m     22\u001b[0m     \u001b[0mloss\u001b[0m\u001b[0;34m.\u001b[0m\u001b[0mbackward\u001b[0m\u001b[0;34m(\u001b[0m\u001b[0;34m)\u001b[0m\u001b[0;34m\u001b[0m\u001b[0;34m\u001b[0m\u001b[0m\n\u001b[0;32m---> 23\u001b[0;31m     \u001b[0moptimizer\u001b[0m\u001b[0;34m.\u001b[0m\u001b[0mstep\u001b[0m\u001b[0;34m(\u001b[0m\u001b[0;34m)\u001b[0m\u001b[0;34m\u001b[0m\u001b[0;34m\u001b[0m\u001b[0m\n\u001b[0m\u001b[1;32m     24\u001b[0m     \u001b[0moptimizer\u001b[0m\u001b[0;34m.\u001b[0m\u001b[0mzero_grad\u001b[0m\u001b[0;34m(\u001b[0m\u001b[0;34m)\u001b[0m\u001b[0;34m\u001b[0m\u001b[0;34m\u001b[0m\u001b[0m\n\u001b[1;32m     25\u001b[0m \u001b[0;34m\u001b[0m\u001b[0m\n",
      "\u001b[0;32m<ipython-input-13-0c3229103c34>\u001b[0m in \u001b[0;36mstep\u001b[0;34m(self)\u001b[0m\n\u001b[1;32m     58\u001b[0m             \u001b[0my\u001b[0m\u001b[0;34m.\u001b[0m\u001b[0mbackward\u001b[0m\u001b[0;34m(\u001b[0m\u001b[0;34m)\u001b[0m\u001b[0;34m\u001b[0m\u001b[0;34m\u001b[0m\u001b[0m\n\u001b[1;32m     59\u001b[0m \u001b[0;34m\u001b[0m\u001b[0m\n\u001b[0;32m---> 60\u001b[0;31m             \u001b[0mxk0\u001b[0m \u001b[0;34m=\u001b[0m \u001b[0mApx\u001b[0m\u001b[0;34m(\u001b[0m\u001b[0mx\u001b[0m\u001b[0;34m,\u001b[0m \u001b[0mbeta\u001b[0m\u001b[0;34m)\u001b[0m\u001b[0;34m\u001b[0m\u001b[0;34m\u001b[0m\u001b[0m\n\u001b[0m\u001b[1;32m     61\u001b[0m             \u001b[0;32mif\u001b[0m \u001b[0;34m(\u001b[0m\u001b[0mtorch\u001b[0m\u001b[0;34m.\u001b[0m\u001b[0mmul\u001b[0m\u001b[0;34m(\u001b[0m\u001b[0mxk0\u001b[0m\u001b[0;34m.\u001b[0m\u001b[0mgrad\u001b[0m\u001b[0;34m,\u001b[0m \u001b[0mu\u001b[0m\u001b[0;34m)\u001b[0m\u001b[0;34m.\u001b[0m\u001b[0msum\u001b[0m\u001b[0;34m(\u001b[0m\u001b[0;34m)\u001b[0m\u001b[0;34m)\u001b[0m \u001b[0;34m>=\u001b[0m \u001b[0;36m0\u001b[0m\u001b[0;34m:\u001b[0m\u001b[0;34m\u001b[0m\u001b[0;34m\u001b[0m\u001b[0m\n\u001b[1;32m     62\u001b[0m                 \u001b[0mx\u001b[0m \u001b[0;34m=\u001b[0m \u001b[0mxk0\u001b[0m\u001b[0;34m\u001b[0m\u001b[0;34m\u001b[0m\u001b[0m\n",
      "\u001b[0;31mNameError\u001b[0m: name 'Apx' is not defined"
     ]
    }
   ],
   "source": [
    "torch.manual_seed(42)\n",
    "lr = 0.1\n",
    "n_epochs = 1000\n",
    "\n",
    "model = LinearRegression(1).to(device)\n",
    "\n",
    "loss_fn = torch.nn.MSELoss(reduction='mean')\n",
    "#optimizer = torch.optim.SGD(model.parameters(), lr=lr) # change to our optimizer\n",
    "\n",
    "optimizer = InexactProximalWithSegmentSearch(\n",
    "    model.parameters(),\n",
    "    f=lambda x: loss_fn(y_train_tensor, model.linear(x_train_tensor)),\n",
    "    p=2,\n",
    "    H=1.0,\n",
    "    beta=0.1\n",
    ")\n",
    "\n",
    "for epoch in range(n_epochs):\n",
    "    model.train()\n",
    "    predicted = model(x_train_tensor)\n",
    "    loss = loss_fn(y_train_tensor, predicted)\n",
    "    loss.backward()\n",
    "    optimizer.step()\n",
    "    optimizer.zero_grad()\n",
    "\n",
    "model.state_dict()"
   ]
  },
  {
   "cell_type": "markdown",
   "metadata": {},
   "source": [
    "As we can see, all is OK: weight is ~2, bias is ~1"
   ]
  },
  {
   "cell_type": "code",
   "execution_count": null,
   "metadata": {},
   "outputs": [],
   "source": []
  }
 ],
 "metadata": {
  "kernelspec": {
   "display_name": "Python 3",
   "language": "python",
   "name": "python3"
  },
  "language_info": {
   "codemirror_mode": {
    "name": "ipython",
    "version": 3
   },
   "file_extension": ".py",
   "mimetype": "text/x-python",
   "name": "python",
   "nbconvert_exporter": "python",
   "pygments_lexer": "ipython3",
   "version": "3.7.7"
  }
 },
 "nbformat": 4,
 "nbformat_minor": 2
}
